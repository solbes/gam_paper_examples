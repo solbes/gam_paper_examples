{
 "cells": [
  {
   "cell_type": "code",
   "execution_count": null,
   "id": "86cbb769",
   "metadata": {},
   "outputs": [],
   "source": [
    "import blinpy as bp\n",
    "import pandas as pd\n",
    "import numpy as np\n",
    "import matplotlib.pyplot as plt\n",
    "from scipy import sparse\n",
    "from scipy.optimize import minimize\n",
    "%matplotlib inline"
   ]
  },
  {
   "cell_type": "markdown",
   "id": "1434a384",
   "metadata": {},
   "source": [
    "## Figure 2: various orders for difference priors"
   ]
  },
  {
   "cell_type": "code",
   "execution_count": null,
   "id": "24919562",
   "metadata": {},
   "outputs": [],
   "source": [
    "# generate random data\n",
    "xobs = -1.75 + 3.5*np.random.random(100)\n",
    "yobs = 3*xobs**4-6*xobs**2+2 + np.random.randn(len(xobs))\n",
    "\n",
    "data = pd.DataFrame({'x': xobs, 'y': yobs})"
   ]
  },
  {
   "cell_type": "code",
   "execution_count": null,
   "id": "67e714a9",
   "metadata": {},
   "outputs": [],
   "source": [
    "xfit = np.linspace(-2,2,20)\n",
    "nfit = len(xfit)\n",
    "\n",
    "# function for generating the GAM specification given prior order and variance\n",
    "generate_gam_spec = lambda pri_order, pri_var: [\n",
    "    {\n",
    "        'fun': lambda df: bp.utils.interp_matrix(df['x'].values, xfit, sparse=False),\n",
    "        'name': 'smoothfun',\n",
    "        'prior': {\n",
    "            'B': bp.utils.diffmat(nfit, order=pri_order, sparse=False),\n",
    "            'mu': np.zeros(nfit-pri_order),\n",
    "            'cov': pri_var*np.ones(nfit-pri_order)\n",
    "        }\n",
    "    }\n",
    "]"
   ]
  },
  {
   "cell_type": "code",
   "execution_count": null,
   "id": "ef859cef",
   "metadata": {},
   "outputs": [],
   "source": [
    "pri_covs = [100, 1, 0.1, 0.000000001]\n",
    "\n",
    "# fit the models with various prior orders and variances and collect the posterior means\n",
    "yfits1 = [bp.models.GamModel('y', generate_gam_spec(1, pri_cov)).fit(data).post_mu for pri_cov in pri_covs]\n",
    "yfits2 = [bp.models.GamModel('y', generate_gam_spec(2, pri_cov)).fit(data).post_mu for pri_cov in pri_covs]\n",
    "yfits3 = [bp.models.GamModel('y', generate_gam_spec(3, pri_cov)).fit(data).post_mu for pri_cov in pri_covs]"
   ]
  },
  {
   "cell_type": "code",
   "execution_count": null,
   "id": "0e6b7359",
   "metadata": {},
   "outputs": [],
   "source": [
    "plt.figure(figsize=(9,3))\n",
    "plt.subplot(131)\n",
    "plt.plot(xobs, yobs, 'k.')\n",
    "plt.plot(xfit, yfits1[0], '-', lw=1)\n",
    "plt.plot(xfit, yfits1[1], '-')\n",
    "plt.plot(xfit, yfits1[2], '-')\n",
    "plt.plot(xfit, yfits1[3], '-')\n",
    "plt.ylim((-4,20))\n",
    "plt.xlim((-2.1,2.1))\n",
    "plt.legend(['data','$\\sigma=100$','$\\sigma=1$','$\\sigma=0.1$','$\\sigma=0$'], fontsize=8)\n",
    "plt.title('1st order diff')\n",
    "plt.xlabel('x')\n",
    "plt.ylabel('y')\n",
    "plt.grid(True)\n",
    "\n",
    "plt.subplot(132)\n",
    "plt.plot(xobs, yobs, 'k.')\n",
    "plt.plot(xfit, yfits2[0], '-')\n",
    "plt.plot(xfit, yfits2[1], '-')\n",
    "plt.plot(xfit, yfits2[2], '-')\n",
    "plt.plot(xfit, yfits2[3], '-')\n",
    "plt.ylim((-4,20))\n",
    "plt.xlim((-2.1,2.1))\n",
    "plt.xlabel('x')\n",
    "plt.title('2nd order diff')\n",
    "plt.grid(True)\n",
    "\n",
    "plt.subplot(133)\n",
    "plt.plot(xobs, yobs, 'k.')\n",
    "plt.plot(xfit, yfits3[0], '-')\n",
    "plt.plot(xfit, yfits3[1], '-')\n",
    "plt.plot(xfit, yfits3[2], '-')\n",
    "plt.plot(xfit, yfits3[3], '-')\n",
    "plt.title('3rd order diff')\n",
    "plt.ylim((-4,20))\n",
    "plt.xlim((-2.1,2.1))\n",
    "plt.xlabel('x')\n",
    "plt.grid(True)\n",
    "\n",
    "plt.tight_layout()\n",
    "plt.show()"
   ]
  },
  {
   "cell_type": "markdown",
   "id": "a616e62a",
   "metadata": {},
   "source": [
    "## Figure 8: MAP for hyperparameters"
   ]
  },
  {
   "cell_type": "code",
   "execution_count": null,
   "id": "3ecc757c",
   "metadata": {},
   "outputs": [],
   "source": [
    "pri_covs = np.logspace(-2, 3, base=10)\n",
    "\n",
    "# calculate the likelihoods with various prior orders and variances\n",
    "L1 = [bp.models.GamModel('y', generate_gam_spec(1, pri_cov**2)).fit(data).L for pri_cov in pri_covs]\n",
    "L2 = [bp.models.GamModel('y', generate_gam_spec(2, pri_cov**2)).fit(data).L for pri_cov in pri_covs]\n",
    "L3 = [bp.models.GamModel('y', generate_gam_spec(3, pri_cov**2)).fit(data).L for pri_cov in pri_covs]"
   ]
  },
  {
   "cell_type": "code",
   "execution_count": null,
   "id": "d95fd985",
   "metadata": {},
   "outputs": [],
   "source": [
    "plt.figure(figsize=(6,4))\n",
    "plt.semilogx(pri_covs, L1, 'k-')\n",
    "plt.semilogx(pri_covs, L2, 'r-')\n",
    "plt.semilogx(pri_covs, L3, 'b-')\n",
    "\n",
    "plt.xlabel('prior standard deviation')\n",
    "plt.ylabel('-2*log(posterior)')\n",
    "plt.legend(['order=1', 'order=2', 'order=3'])\n",
    "plt.grid(True)\n",
    "plt.show()"
   ]
  },
  {
   "cell_type": "markdown",
   "id": "608e15bc",
   "metadata": {},
   "source": [
    "## Figure 9: comparison of methods for hyperparameter estimation"
   ]
  },
  {
   "cell_type": "code",
   "execution_count": null,
   "id": "006e4b75",
   "metadata": {},
   "outputs": [],
   "source": [
    "pri_covs = np.logspace(-3, 2, base=10)\n",
    "\n",
    "# form separate test data for posterior predictive score calculation\n",
    "xtest = -1.75 + 3.5*np.random.random(10)\n",
    "ytest = 3*xtest**4-6*xtest**2+2 + np.random.randn(len(xtest))\n",
    "test_data = pd.DataFrame({'x': xtest, 'y': ytest})\n",
    "\n",
    "# calculate likelihoods and posterior predictive scores\n",
    "L2_map = [bp.models.GamModel('y', generate_gam_spec(2, pri_cov**2)).fit(data).L for pri_cov in pri_covs]\n",
    "L2_post = [bp.models.GamModel('y', generate_gam_spec(2, pri_cov**2)).fit(data).postpred(test_data) for pri_cov in pri_covs]"
   ]
  },
  {
   "cell_type": "code",
   "execution_count": null,
   "id": "4638326e",
   "metadata": {},
   "outputs": [],
   "source": [
    "plt.figure(figsize=(6,4))\n",
    "plt.subplot(211)\n",
    "plt.semilogx(pri_covs, L2_map, 'r-')\n",
    "plt.grid(True)\n",
    "plt.axvline(pri_covs[np.argmin(L2_map)], color='0.5')\n",
    "plt.ylabel('-2*log(posterior)')\n",
    "\n",
    "plt.subplot(212)\n",
    "plt.semilogx(pri_covs, L2_post, 'b-')\n",
    "plt.axvline(pri_covs[np.argmin(L2_post)], color='0.5')\n",
    "plt.xlabel('prior standard deviation')\n",
    "plt.ylabel('post. pred. score')\n",
    "plt.grid(True)\n",
    "\n",
    "plt.tight_layout()\n",
    "plt.show()"
   ]
  },
  {
   "cell_type": "code",
   "execution_count": null,
   "id": "87cd8f44",
   "metadata": {},
   "outputs": [],
   "source": []
  },
  {
   "cell_type": "markdown",
   "id": "8a185f7d",
   "metadata": {},
   "source": [
    "## Figure 3: different prior order for different dimensions"
   ]
  },
  {
   "cell_type": "code",
   "execution_count": null,
   "id": "a57a0fda",
   "metadata": {},
   "outputs": [],
   "source": [
    "# generate random data\n",
    "x1 = 2*np.random.random(200)\n",
    "x2 = np.random.random(200)\n",
    "yobs = 0.5*x1 + 4*(x2-0.5)**2/(1 + 2*x1)\n",
    "\n",
    "data = pd.DataFrame({'x1': x1, 'x2': x2, 'y': yobs})"
   ]
  },
  {
   "cell_type": "code",
   "execution_count": null,
   "id": "7c68bdb1",
   "metadata": {},
   "outputs": [],
   "source": [
    "# define the grid points for function estimation\n",
    "grids = (np.linspace(-0.25,2.25,25), np.linspace(-0.25,1.25,15))\n",
    "shape = [len(x) for x in grids]\n",
    "\n",
    "# diff priors along different dimensions \n",
    "D1 = bp.utils.diffmatn(shape, 0, order=2)\n",
    "D2 = bp.utils.diffmatn(shape, 1, order=3)\n",
    "D = sparse.vstack((D1,D2))\n",
    "\n",
    "# prior variances\n",
    "pri_var = np.concatenate((0.001*np.ones(D1.shape[0]), 0.01*np.ones(D2.shape[0])))\n",
    "\n",
    "# GAM specification for 2d fit\n",
    "gam_spec = [\n",
    "    {\n",
    "        'fun': lambda df: bp.utils.interpn_matrix(df[['x1','x2']].values, grids),\n",
    "        'name': 'smoothfun_2d',\n",
    "        'prior': {\n",
    "            'B': D,\n",
    "            'mu': np.zeros(D.shape[0]),\n",
    "            'cov': pri_var\n",
    "        }\n",
    "    }\n",
    "]"
   ]
  },
  {
   "cell_type": "code",
   "execution_count": null,
   "id": "03c2026f",
   "metadata": {},
   "outputs": [],
   "source": [
    "# fit the model\n",
    "yfit = bp.models.GamModel('y', gam_spec).fit(data, obs_cov=0.01**2).post_mu"
   ]
  },
  {
   "cell_type": "code",
   "execution_count": null,
   "id": "50a8eaff",
   "metadata": {},
   "outputs": [],
   "source": [
    "from mpl_toolkits.mplot3d import axes3d\n",
    "\n",
    "X, Y = np.meshgrid(*grids, indexing='ij')\n",
    "\n",
    "fig = plt.figure(figsize=(6,6))\n",
    "ax = fig.add_subplot(111, projection='3d')\n",
    "\n",
    "ax.plot_wireframe(X, Y, yfit.reshape(shape), alpha=0.5)\n",
    "ax.plot(x1, x2, yobs, 'k.', ms=5)\n",
    "plt.xlim((-0.5,2.5))\n",
    "plt.ylim((-0.5,1.5))\n",
    "plt.xlabel('x1')\n",
    "plt.ylabel('x2')\n",
    "ax.view_init(elev=14., azim=-170)\n",
    "plt.show()"
   ]
  },
  {
   "cell_type": "markdown",
   "id": "3d4f459b",
   "metadata": {},
   "source": [
    "## Figure 4: spatially varying smoothness"
   ]
  },
  {
   "cell_type": "code",
   "execution_count": null,
   "id": "5abf14fd",
   "metadata": {},
   "outputs": [],
   "source": [
    "# generate random data\n",
    "xobs = 3*np.random.random(400)\n",
    "yobs = np.sin(xobs**3)+ 0.1*np.random.randn(len(xobs))\n",
    "\n",
    "data = pd.DataFrame({'x': xobs, 'y': yobs})"
   ]
  },
  {
   "cell_type": "code",
   "execution_count": null,
   "id": "b51ebd10",
   "metadata": {},
   "outputs": [],
   "source": [
    "xfit = np.linspace(0,3,100)\n",
    "nfit = len(xfit)\n",
    "\n",
    "# function for generating GAM specification given prior variance\n",
    "generate_gam_spec = lambda pri_var: [\n",
    "    {\n",
    "        'fun': lambda df: bp.utils.interp_matrix(df['x'].values, xfit, sparse=False),\n",
    "        'name': 'smoothfun',\n",
    "        'prior': {\n",
    "            'B': bp.utils.diffmat(nfit, order=2, sparse=False),\n",
    "            'mu': np.zeros(nfit-2),\n",
    "            'cov': pri_var\n",
    "        }\n",
    "    }\n",
    "]"
   ]
  },
  {
   "cell_type": "code",
   "execution_count": null,
   "id": "bf2aaa56",
   "metadata": {},
   "outputs": [],
   "source": [
    "# choose a spatially varying covariance manually\n",
    "pri_cov = (10**(-4 + 4./3*xfit))[1:-1]\n",
    "\n",
    "# fit the models with various prior variances\n",
    "yfit1 = bp.models.GamModel('y', generate_gam_spec(0.1*np.ones(nfit-2))).fit(data, obs_cov=0.1**2).post_mu\n",
    "yfit2 = bp.models.GamModel('y', generate_gam_spec(0.001*np.ones(nfit-2))).fit(data, obs_cov=0.1**2).post_mu\n",
    "yfit3 = bp.models.GamModel('y', generate_gam_spec(pri_cov)).fit(data, obs_cov=0.1**2).post_mu"
   ]
  },
  {
   "cell_type": "code",
   "execution_count": null,
   "id": "5c0397d1",
   "metadata": {},
   "outputs": [],
   "source": [
    "plt.figure(figsize=(9,3))\n",
    "\n",
    "plt.subplot(131)\n",
    "plt.plot(xobs, yobs, 'k.')\n",
    "plt.plot(xfit, yfit1, 'r-')\n",
    "plt.xlim(0,3)\n",
    "plt.xlabel('x')\n",
    "plt.grid(True)\n",
    "plt.title('$\\sigma=0.1$')\n",
    "\n",
    "plt.subplot(132)\n",
    "plt.plot(xobs, yobs, 'k.')\n",
    "plt.plot(xfit, yfit2, 'r-')\n",
    "plt.xlim(0,3)\n",
    "plt.xlabel('x')\n",
    "plt.grid(True)\n",
    "plt.title('$\\sigma=0.001$')\n",
    "\n",
    "plt.subplot(133)\n",
    "plt.plot(xobs, yobs, 'k.')\n",
    "plt.plot(xfit, yfit3, 'r-')\n",
    "plt.xlim(0,3)\n",
    "plt.xlabel('x')\n",
    "plt.grid(True)\n",
    "plt.title('$\\log_{10}\\sigma=-4+(4/3)x$')\n",
    "\n",
    "plt.tight_layout()\n",
    "plt.show()"
   ]
  },
  {
   "cell_type": "markdown",
   "id": "dfd44e1f",
   "metadata": {},
   "source": [
    "## Figure 5: sudden jump"
   ]
  },
  {
   "cell_type": "code",
   "execution_count": null,
   "id": "da005617",
   "metadata": {},
   "outputs": [],
   "source": [
    "# generate data\n",
    "xobs = 3*np.random.random(100)\n",
    "yobs = np.sin(xobs) + (xobs > 2)*xobs + 0.1*np.random.randn(len(xobs))\n",
    "\n",
    "data = pd.DataFrame({'x': xobs, 'y': yobs})"
   ]
  },
  {
   "cell_type": "code",
   "execution_count": null,
   "id": "c31c5544",
   "metadata": {},
   "outputs": [],
   "source": [
    "xfit = np.linspace(0,3,50)\n",
    "n = len(xfit)\n",
    "\n",
    "# function for generating GAM specs given prior variance\n",
    "generate_gam_spec = lambda pri_var: [\n",
    "    {\n",
    "        'fun': lambda df: bp.utils.interp_matrix(df['x'].values, xfit, sparse=False),\n",
    "        'name': 'smoothfun',\n",
    "        'prior': {\n",
    "            'B': bp.utils.diffmat(n, order=1, sparse=False),\n",
    "            'mu': np.zeros(n-1),\n",
    "            'cov': pri_var\n",
    "        }\n",
    "    }\n",
    "]"
   ]
  },
  {
   "cell_type": "code",
   "execution_count": null,
   "id": "697e0347",
   "metadata": {},
   "outputs": [],
   "source": [
    "# increase the prior variance at the discontinuity\n",
    "pri_covs = 0.001*np.ones(n-1)\n",
    "pri_covs[32] = 10000\n",
    "\n",
    "# fit the models\n",
    "yfit1 = bp.models.GamModel('y', generate_gam_spec(0.001*np.ones(n-1))).fit(data, obs_cov=0.1**2).post_mu\n",
    "yfit2 = bp.models.GamModel('y', generate_gam_spec(pri_covs)).fit(data, obs_cov=0.1**2).post_mu"
   ]
  },
  {
   "cell_type": "code",
   "execution_count": null,
   "id": "33850cfa",
   "metadata": {},
   "outputs": [],
   "source": [
    "plt.figure(figsize=(6,4))\n",
    "plt.plot(xobs, yobs, 'k.')\n",
    "plt.plot(xfit, yfit1, 'b-')\n",
    "plt.plot(xfit, yfit2, 'r-')\n",
    "plt.xlabel('x')\n",
    "plt.ylabel('y')\n",
    "plt.legend(['data', 'constant smoothness', 'varying smoothness'])\n",
    "plt.grid(True)\n",
    "plt.show()"
   ]
  },
  {
   "cell_type": "markdown",
   "id": "57c22fb9",
   "metadata": {},
   "source": [
    "## Figure 6: symmetric and periodic function"
   ]
  },
  {
   "cell_type": "code",
   "execution_count": null,
   "id": "1bc7eb7f",
   "metadata": {},
   "outputs": [],
   "source": [
    "# generate data\n",
    "xobs = -np.pi + 2*np.pi*np.random.random(50)\n",
    "yobs = -np.sin(xobs)**3 + np.cos(xobs)**3 + 0.1*np.random.randn(len(xobs))\n",
    "\n",
    "data = pd.DataFrame({'x': xobs, 'y': yobs})"
   ]
  },
  {
   "cell_type": "code",
   "execution_count": null,
   "id": "635c7bcf",
   "metadata": {},
   "outputs": [],
   "source": [
    "# define the fitting grid\n",
    "xfit = np.linspace(-np.pi,np.pi,100)\n",
    "ytrue = -np.sin(xfit)**3 + np.cos(xfit)**3\n",
    "n = len(xfit)\n",
    "\n",
    "# generate GAM spec given prior system matrix and variance\n",
    "generate_gam_spec = lambda B, pri_var: [\n",
    "    {\n",
    "        'fun': lambda df: bp.utils.interp_matrix(df['x'].values, xfit, sparse=False),\n",
    "        'name': 'smoothfun',\n",
    "        'prior': {\n",
    "            'B': B,\n",
    "            'mu': np.zeros(B.shape[0]),\n",
    "            'cov': pri_var\n",
    "        }\n",
    "    }\n",
    "]"
   ]
  },
  {
   "cell_type": "code",
   "execution_count": null,
   "id": "e0039ee6",
   "metadata": {},
   "outputs": [],
   "source": [
    "# case 1: just smoothness prior\n",
    "D_smooth = bp.utils.diffmat(n, order=2)\n",
    "var_smooth = 0.01*np.ones(D_smooth.shape[0])\n",
    "gam_spec_smooth = generate_gam_spec(D_smooth, var_smooth)\n",
    "\n",
    "# case 2: periodic smoothness prior\n",
    "D_periodic = bp.utils.diffmat(n, order=2, periodic=True)\n",
    "var_periodic = 0.01*np.ones(D_periodic.shape[0])\n",
    "gam_spec_periodic = generate_gam_spec(D_periodic, var_periodic)\n",
    "\n",
    "# symmetric prior\n",
    "D_symmetric = bp.utils.symmat(n, nsymm=np.where(xfit >= -np.pi/4)[0][0])\n",
    "var_symmetric = 0.01*np.ones(D_symmetric.shape[0])\n",
    "\n",
    "# case 3: periodic and symmetric priors combined\n",
    "D_per_symm = sparse.vstack((D_periodic, D_symmetric))\n",
    "var_per_symm = np.concatenate((var_periodic, var_symmetric))\n",
    "gam_spec_both = generate_gam_spec(D_per_symm, var_per_symm)"
   ]
  },
  {
   "cell_type": "code",
   "execution_count": null,
   "id": "8a365a03",
   "metadata": {},
   "outputs": [],
   "source": [
    "# fit the models\n",
    "yfit_smooth = bp.models.GamModel('y', gam_spec_smooth).fit(data, obs_cov=0.1).post_mu\n",
    "yfit_periodic = bp.models.GamModel('y', gam_spec_periodic).fit(data, obs_cov=0.1).post_mu\n",
    "yfit_both = bp.models.GamModel('y', gam_spec_both).fit(data, obs_cov=0.1).post_mu"
   ]
  },
  {
   "cell_type": "code",
   "execution_count": null,
   "id": "bf6038e1",
   "metadata": {},
   "outputs": [],
   "source": [
    "plt.figure(figsize=(9,3))\n",
    "\n",
    "plt.subplot(131)\n",
    "plt.plot(xobs, yobs, 'k.')\n",
    "plt.plot(xfit, ytrue, 'b--')\n",
    "plt.plot(xfit, yfit_smooth, 'r-')\n",
    "plt.grid(True)\n",
    "plt.legend(['data','truth','fit'])\n",
    "plt.xlabel('x')\n",
    "plt.ylabel('y')\n",
    "plt.title('smooth', fontsize=10)\n",
    "\n",
    "plt.subplot(132)\n",
    "plt.plot(xobs, yobs, 'k.')\n",
    "plt.plot(xfit, ytrue, 'b--')\n",
    "plt.plot(xfit, yfit_periodic, 'r-')\n",
    "plt.grid(True)\n",
    "plt.xlabel('x')\n",
    "plt.title('smooth + periodic', fontsize=10)\n",
    "\n",
    "plt.subplot(133)\n",
    "plt.plot(xobs, yobs, 'k.')\n",
    "plt.plot(xfit, ytrue, 'b--')\n",
    "plt.plot(xfit, yfit_both, 'r-')\n",
    "plt.grid(True)\n",
    "plt.xlabel('x')\n",
    "plt.title('smooth + periodic + symmetric', fontsize=10)\n",
    "\n",
    "plt.tight_layout()\n",
    "plt.show()"
   ]
  },
  {
   "cell_type": "markdown",
   "id": "01546be5",
   "metadata": {},
   "source": [
    "## Figure 7: monotonic function"
   ]
  },
  {
   "cell_type": "code",
   "execution_count": null,
   "id": "8235c167",
   "metadata": {},
   "outputs": [],
   "source": [
    "# generate data\n",
    "xobs = np.random.random(50)\n",
    "yobs = 0.5+0.2*xobs + 0.05*np.random.randn(len(xobs))"
   ]
  },
  {
   "cell_type": "code",
   "execution_count": null,
   "id": "4e02193f",
   "metadata": {},
   "outputs": [],
   "source": [
    "# fit the model without monotonicity\n",
    "xfit = np.linspace(0,1,10)\n",
    "A = bp.utils.interp_matrix(xobs, xfit, sparse=False)\n",
    "yfit, _, _ = bp.utils.linfit(yobs, A)"
   ]
  },
  {
   "cell_type": "code",
   "execution_count": null,
   "id": "f117ca66",
   "metadata": {},
   "outputs": [],
   "source": [
    "# fit the model with monotonicity\n",
    "C = -bp.utils.diffmat(len(xfit))\n",
    "b = np.zeros(C.shape[0])\n",
    "\n",
    "yfit_pos = bp.utils.linfit_con(yobs, A, C=C, b=b)"
   ]
  },
  {
   "cell_type": "code",
   "execution_count": null,
   "id": "1cba6728",
   "metadata": {},
   "outputs": [],
   "source": [
    "plt.figure(figsize=(6,4))\n",
    "plt.plot(xobs,yobs,'k.')\n",
    "plt.plot(xfit, yfit, 'r-')\n",
    "plt.plot(xfit, yfit_pos, 'b-')\n",
    "plt.xlabel('x')\n",
    "plt.ylabel('y')\n",
    "plt.legend(['data','no monotonicity', 'monotonicity'])\n",
    "plt.grid(True)\n",
    "\n",
    "plt.show()"
   ]
  },
  {
   "cell_type": "code",
   "execution_count": null,
   "id": "dfbde333",
   "metadata": {},
   "outputs": [],
   "source": []
  },
  {
   "cell_type": "markdown",
   "id": "6fcbdb57",
   "metadata": {},
   "source": [
    "## Figure 12: Hyperpar optimization"
   ]
  },
  {
   "cell_type": "code",
   "execution_count": null,
   "id": "a7867b6d",
   "metadata": {},
   "outputs": [],
   "source": [
    "# generate fit and test data\n",
    "x1 = np.random.random(50)\n",
    "x2 = np.random.random(50)\n",
    "x3 = np.random.random(50)\n",
    "\n",
    "x1test = np.random.random(20)\n",
    "x2test = np.random.random(20)\n",
    "x3test = np.random.random(20)\n",
    "\n",
    "f1 = lambda x: 2*np.sin(np.pi*x)\n",
    "f2 = lambda x: np.exp(2*x)\n",
    "f3 = lambda x: x**11*(10*(1-x))**6/5+10**4*x**3*(1-x)**10\n",
    "\n",
    "ysig = 0.1\n",
    "\n",
    "y = f1(x1) + f2(x2) + f3(x3) + ysig*np.random.randn(len(x1))\n",
    "ytest = f1(x1test) + f2(x2test) + f3(x3test) + ysig*np.random.randn(len(x1test))\n",
    "\n",
    "data = pd.DataFrame({'x1': x1, 'x2': x2, 'x3': x3, 'y': y})\n",
    "test_data = pd.DataFrame({'x1': x1test, 'x2': x2test, 'x3': x3test, 'y': ytest})"
   ]
  },
  {
   "cell_type": "code",
   "execution_count": null,
   "id": "7a1be01d",
   "metadata": {},
   "outputs": [],
   "source": [
    "# define the fitting grid\n",
    "nfit=50\n",
    "x1fit = np.linspace(0, 1, nfit)\n",
    "x2fit = np.linspace(0, 1, nfit)\n",
    "x3fit = np.linspace(0, 1, nfit)"
   ]
  },
  {
   "cell_type": "code",
   "execution_count": null,
   "id": "12e7a8b2",
   "metadata": {},
   "outputs": [],
   "source": [
    "# use the smooth_diff1 helper to define simple 1d smooth GAMs\n",
    "gam_spec = lambda logv: [\n",
    "    bp.utils.smooth_diff1('x1', x1fit, diff_std=np.exp(logv[0]), std=1e3, name='f1'),\n",
    "    bp.utils.smooth_diff1('x2', x2fit, diff_std=np.exp(logv[1]), std=1e3, name='f2'),\n",
    "    bp.utils.smooth_diff1('x3', x3fit, diff_std=np.exp(logv[2]), std=1e3, name='f3'),\n",
    "]"
   ]
  },
  {
   "cell_type": "code",
   "execution_count": null,
   "id": "86cc5483",
   "metadata": {},
   "outputs": [],
   "source": [
    "# fit the model with manually chosen hyperparameters\n",
    "model = bp.models.GamModel('y', gam_spec(np.array([-5, -5, -2]))).fit(data, obs_cov=ysig**2)"
   ]
  },
  {
   "cell_type": "code",
   "execution_count": null,
   "id": "5112f18c",
   "metadata": {},
   "outputs": [],
   "source": [
    "plt.figure()\n",
    "\n",
    "plt.subplot(311)\n",
    "plt.plot(x1fit, model.theta['f1'])\n",
    "plt.plot(x1, f1(x1), '.')\n",
    "\n",
    "plt.subplot(312)\n",
    "plt.plot(x2fit, model.theta['f2'])\n",
    "plt.plot(x2, f2(x2), '.')\n",
    "\n",
    "plt.subplot(313)\n",
    "plt.plot(x3fit, model.theta['f3'])\n",
    "plt.plot(x3, f3(x3), '.')\n",
    "\n",
    "\n",
    "plt.show()"
   ]
  },
  {
   "cell_type": "code",
   "execution_count": null,
   "id": "2b035b24",
   "metadata": {},
   "outputs": [],
   "source": [
    "# define functions for calculating the likelihood and posterior predictive scores\n",
    "like = lambda v: bp.models.GamModel('y', gam_spec(v)).fit(data, obs_cov=ysig**2).L\n",
    "postpred = lambda v: bp.models.GamModel('y', gam_spec(v)).fit(data, obs_cov=ysig**2).postpred(test_data, obs_cov=ysig**2)"
   ]
  },
  {
   "cell_type": "code",
   "execution_count": null,
   "id": "241c44e3",
   "metadata": {},
   "outputs": [],
   "source": [
    "# fit the models with optimized hyperparameters\n",
    "v0 = np.array([-1,-1,-1])\n",
    "model_like = bp.models.GamModel('y', gam_spec(minimize(like, v0, method='Nelder-Mead').x)).fit(data, obs_cov=ysig**2)\n",
    "model_post = bp.models.GamModel('y', gam_spec(minimize(postpred, v0, method='Nelder-Mead').x)).fit(data, obs_cov=ysig**2)"
   ]
  },
  {
   "cell_type": "code",
   "execution_count": null,
   "id": "3af70556",
   "metadata": {},
   "outputs": [],
   "source": [
    "plt.figure(figsize=(6,6))\n",
    "\n",
    "plt.subplot(311)\n",
    "plt.plot(x1fit, model_like.theta['f1'])\n",
    "plt.plot(x1fit, model_post.theta['f1'],'--')\n",
    "plt.plot(x1, f1(x1), '.')\n",
    "plt.legend(['MAP','post-pred','truth'], fontsize=8, loc=1)\n",
    "plt.grid(True)\n",
    "plt.ylabel('f1(x)')\n",
    "\n",
    "plt.subplot(312)\n",
    "plt.plot(x1fit, model_like.theta['f2'])\n",
    "plt.plot(x1fit, model_post.theta['f2'],'--')\n",
    "plt.plot(x2, f2(x2), '.')\n",
    "plt.grid(True)\n",
    "plt.ylabel('f2(x)')\n",
    "\n",
    "plt.subplot(313)\n",
    "plt.plot(x1fit, model_like.theta['f3'])\n",
    "plt.plot(x1fit, model_post.theta['f3'],'--')\n",
    "plt.plot(x3, f3(x3), '.')\n",
    "plt.grid(True)\n",
    "plt.xlabel('x')\n",
    "plt.ylabel('f3(x)')\n",
    "\n",
    "plt.tight_layout()\n",
    "plt.show()"
   ]
  },
  {
   "cell_type": "markdown",
   "id": "4ab4fcf5",
   "metadata": {},
   "source": [
    "## Figures 10-11: Manua Loa"
   ]
  },
  {
   "cell_type": "code",
   "execution_count": null,
   "id": "5822c8c3",
   "metadata": {},
   "outputs": [],
   "source": [
    "# read the data from csv\n",
    "data = pd.read_csv('manua_loa_co2.csv', index_col='Date', parse_dates=True, dayfirst=True)\n",
    "data['time'] = np.arange(1, len(data)+1)"
   ]
  },
  {
   "cell_type": "code",
   "execution_count": null,
   "id": "b198f07d",
   "metadata": {},
   "outputs": [],
   "source": [
    "# define fitting grid\n",
    "time_fit = np.arange(0, len(data)+1)\n",
    "month_fit = np.linspace(1, 12, 100)\n",
    "nfit = len(month_fit)\n",
    "\n",
    "# define the GAM specs: smooth along time, smooth and periodic across months\n",
    "gam_specs =  lambda logv: [\n",
    "    bp.utils.smooth_diff1('time', time_fit, diff_std=np.exp(logv[0]), mu=np.mean(data.co2.values), std=100),\n",
    "    {\n",
    "        'fun': lambda df: bp.utils.interp_matrix(df['month'].values, month_fit),\n",
    "        'name': 'f(month)',\n",
    "        'prior': {\n",
    "            'B': bp.utils.diffmat(nfit, order=2, periodic=True),\n",
    "            'mu': np.zeros(nfit),\n",
    "            'cov': np.concatenate((np.exp(logv[1])*np.ones(nfit-2), 0.00001*np.ones(2))),\n",
    "        }\n",
    "    }\n",
    "]"
   ]
  },
  {
   "cell_type": "code",
   "execution_count": null,
   "id": "3c2a3050",
   "metadata": {},
   "outputs": [],
   "source": [
    "# fit the model with manually chosen hyperparameters\n",
    "model = bp.models.GamModel('co2', gam_specs((np.log(0.001), np.log(0.1)))).fit(data, obs_cov=0.1**2)"
   ]
  },
  {
   "cell_type": "code",
   "execution_count": null,
   "id": "dc9f2934",
   "metadata": {},
   "outputs": [],
   "source": [
    "plt.figure(figsize=(8,6))\n",
    "\n",
    "plt.subplot(211)\n",
    "plt.plot(data.time, data.co2, 'r.', ms=3)\n",
    "plt.plot(data.time, model.predict(data), 'k-', lw=1)\n",
    "plt.grid(True)\n",
    "plt.xlabel('time (months since 03/1958)')\n",
    "plt.ylabel('co2')\n",
    "plt.legend(['data', 'f1(time)+f2(month)'])\n",
    "\n",
    "plt.subplot(223)\n",
    "plt.plot(time_fit, model.theta['f(time)'], 'k-')\n",
    "plt.grid(True)\n",
    "plt.xlabel('time')\n",
    "plt.ylabel('f1(time): smooth')\n",
    "\n",
    "plt.subplot(224)\n",
    "plt.plot(month_fit, model.theta['f(month)'], 'k-')\n",
    "plt.grid(True)\n",
    "plt.xlabel('month')\n",
    "plt.ylabel('f2(month): smooth + periodic')\n",
    "\n",
    "plt.tight_layout()\n",
    "plt.show()"
   ]
  },
  {
   "cell_type": "code",
   "execution_count": null,
   "id": "a4d55bdb",
   "metadata": {},
   "outputs": [],
   "source": [
    "# get the likelihood function for hyperparameter optimization\n",
    "like = lambda v: bp.models.GamModel('co2', gam_specs(v)).fit(data, obs_cov=0.5**2).L"
   ]
  },
  {
   "cell_type": "code",
   "execution_count": null,
   "id": "fee6f22f",
   "metadata": {},
   "outputs": [],
   "source": [
    "# fit the model with optimized hyperparameters\n",
    "v0=(np.log(0.001), np.log(0.1))\n",
    "model_like = bp.models.GamModel('co2', gam_specs(minimize(like, v0, method='Nelder-Mead').x)).fit(data, obs_cov=0.5**2)"
   ]
  },
  {
   "cell_type": "code",
   "execution_count": null,
   "id": "58aff182",
   "metadata": {},
   "outputs": [],
   "source": [
    "plt.figure(figsize=(8,6))\n",
    "\n",
    "plt.subplot(211)\n",
    "plt.plot(data.time, data.co2, 'r.', ms=3)\n",
    "plt.plot(data.time, model_like.predict(data), 'k-', lw=1)\n",
    "plt.grid(True)\n",
    "plt.xlabel('time (months since 03/1958)')\n",
    "plt.ylabel('co2')\n",
    "plt.legend(['data', 'f1(time)+f2(month)'])\n",
    "\n",
    "plt.subplot(223)\n",
    "plt.plot(time_fit, model_like.theta['f(time)'], 'k-')\n",
    "plt.grid(True)\n",
    "plt.xlabel('time')\n",
    "plt.ylabel('f1(time): smooth')\n",
    "\n",
    "plt.subplot(224)\n",
    "plt.plot(month_fit, model_like.theta['f(month)'], 'k-')\n",
    "plt.grid(True)\n",
    "plt.xlabel('month')\n",
    "plt.ylabel('f2(month): smooth + periodic')\n",
    "\n",
    "plt.tight_layout()\n",
    "plt.show()"
   ]
  },
  {
   "cell_type": "code",
   "execution_count": null,
   "id": "a88ba2c8",
   "metadata": {},
   "outputs": [],
   "source": []
  }
 ],
 "metadata": {
  "kernelspec": {
   "display_name": "Python 3 (ipykernel)",
   "language": "python",
   "name": "python3"
  },
  "language_info": {
   "codemirror_mode": {
    "name": "ipython",
    "version": 3
   },
   "file_extension": ".py",
   "mimetype": "text/x-python",
   "name": "python",
   "nbconvert_exporter": "python",
   "pygments_lexer": "ipython3",
   "version": "3.10.9"
  }
 },
 "nbformat": 4,
 "nbformat_minor": 5
}
